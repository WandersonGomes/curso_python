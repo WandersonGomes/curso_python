{
  "nbformat": 4,
  "nbformat_minor": 0,
  "metadata": {
    "colab": {
      "name": "EstruturaSelecaoRepeticao.ipynb",
      "provenance": [],
      "collapsed_sections": [],
      "authorship_tag": "ABX9TyMzWX/KC7F2GcaE9Fq0WphL"
    },
    "kernelspec": {
      "name": "python3",
      "display_name": "Python 3"
    },
    "language_info": {
      "name": "python"
    }
  },
  "cells": [
    {
      "cell_type": "code",
      "metadata": {
        "id": "kpaBqLKUIP4l"
      },
      "source": [
        "# AULA 01\n",
        "# ESTRUTURA DE SELECAO E REPETICAO\n",
        "# === ROTEIRO ===\n",
        "# ESTRUTURAS DE SELECAO\n",
        "# - IF (SIMPLES)\n",
        "# - IF ... ELSE (COMPOSTA)\n",
        "# - IF ... ELIF ... ELSE (MULTIPLA)\n",
        "# ESTRUTURAS DE REPETICAO\n",
        "# - WHILE ...\n",
        "# - FOR ...\n",
        "# -- RANGE\n",
        "# -- LISTA\n",
        "# ESTUDAR MAIS"
      ],
      "execution_count": null,
      "outputs": []
    },
    {
      "cell_type": "code",
      "metadata": {
        "id": "Ao6V8rlOKgUl"
      },
      "source": [
        "# INTRODUCAO\n",
        "# ESTRUTURAS DE SELECAO E REPETICAO SAO AS FERRAMENTAS QUE ALTERAM O FLUXO DE \n",
        "# EXECUCAO DE UM PROGRAMA. (FLUXO DOS SCRIPTS PYTHON SAO LINEAR)"
      ],
      "execution_count": null,
      "outputs": []
    },
    {
      "cell_type": "code",
      "metadata": {
        "id": "iWdM4TOBK0hT"
      },
      "source": [
        "# ESTRUTURA DE SELECAO SIMPLES\n",
        "# if condicao:\n",
        "#   comando1\n",
        "#   comando2\n",
        "# EXEMPLOS:\n",
        "numero = 10\n",
        "if numero % 2 == 0:\n",
        "  print(f'{numero} e par!')\n",
        "\n",
        "numero = 11\n",
        "if numero % 2 != 0:\n",
        "  print(f'{numero} nao e par!')\n",
        "\n",
        "salario = float(input('Informe o salario do funcionario: '))\n",
        "if salario < 0:\n",
        "  print(\"Error: valor do salario invalido!\")"
      ],
      "execution_count": null,
      "outputs": []
    },
    {
      "cell_type": "code",
      "metadata": {
        "id": "35_9GJc7MK8x"
      },
      "source": [
        "# ESTRUTURA DE SELECAO COMPOSTA\n",
        "# if condicao:\n",
        "#   comando1\n",
        "#   comando2\n",
        "# else:\n",
        "#   comando3\n",
        "#   comando4\n",
        "# EXEMPLOS:\n",
        "numero = 10\n",
        "if numero % 2 == 0:\n",
        "  print(f'{numero} e par!')\n",
        "else:\n",
        "  print(f'{numero} nao e par!')\n",
        "\n",
        "numero1 = 1\n",
        "numero2 = 3\n",
        "maiorNumero = 0\n",
        "if numero1 > numero2:\n",
        "  maiorNumero = numero1\n",
        "else:\n",
        "  maiorNumero = numero2\n",
        "print(f'{maiorNumero} e o maior numero entre {numero1} e {numero2}')\n",
        "\n",
        "acoes = ['ITUB4', 'BBDC4', 'PETR4'] # lista com dados\n",
        "acaoProcurada = 'ITBU4'\n",
        "if acaoProcurada in acoes:\n",
        "  print(f'A acao {acaoProcurada} foi encontrada na lista!')\n",
        "else:\n",
        "  print(f'A acao {acaoProcurada} nao foi encontrada na lista')"
      ],
      "execution_count": null,
      "outputs": []
    },
    {
      "cell_type": "code",
      "metadata": {
        "id": "vWptAu8tN4YN"
      },
      "source": [
        "# ESTRUTURA DE SELECAO MULTIPLA\n",
        "# if condicao1:\n",
        "#   comando1\n",
        "#   comando2\n",
        "# elif condicao2:\n",
        "#   comando3\n",
        "#   comando4\n",
        "# elif condicao3:\n",
        "#   comando5\n",
        "#   comando6\n",
        "# else:\n",
        "#   comando7\n",
        "#   comando8\n",
        "# EXEMPLOS:\n",
        "numero = 0\n",
        "if numero > 0:\n",
        "  print(f'O {numero} e positivo!')\n",
        "elif numero == 0:\n",
        "  print(f'O {numero} e neutro!')\n",
        "elif numero < 0:\n",
        "  print(f'O {numero} e negativo!')\n",
        "\n",
        "print(\"=== MENU ===\")\n",
        "print(\"1 -> opcao1\")\n",
        "print(\"2 -> opcao2\")\n",
        "print(\"3 -> opcao3\")\n",
        "opcao = 1\n",
        "if opcao == 1:\n",
        "  print(\"A opcao escolhida foi a 1.\")\n",
        "elif opcao == 2:\n",
        "  print(\"A opcao escolhida foi a 2.\")\n",
        "elif opcao == 3:\n",
        "  print(\"A opcao escolhida foi a 3.\")\n",
        "else:\n",
        "  print(\"Nenhuma opcao foi escolhida.\")\n",
        "\n",
        "numero = 1\n",
        "if numero == 1:\n",
        "  print(\"O numero e 1\")\n",
        "elif numero == 0:\n",
        "  print(\"O numero e 0\")"
      ],
      "execution_count": null,
      "outputs": []
    },
    {
      "cell_type": "code",
      "metadata": {
        "id": "5N2dD4KMPbSg"
      },
      "source": [
        "# ESTRUTURA DE REPETICAO WHILE\n",
        "# while condicao:\n",
        "#   comando1\n",
        "#   comando2\n",
        "# EXEMPLOS\n",
        "numero = 0\n",
        "while numero < 10:\n",
        "  print(numero, end=\" \")\n",
        "  numero += 1\n",
        "\n",
        "numero = -1\n",
        "while numero == -1:\n",
        "  numero = int(input('Informe um numero: '))\n",
        "\n",
        "precoAcao = 0.00\n",
        "precoMinimoVenda = 4\n",
        "while precoAcao < precoMinimoVenda:\n",
        "  precoAcao = float(input('Informe o preco atual da acao: '))\n",
        "print(\"vender\")"
      ],
      "execution_count": null,
      "outputs": []
    },
    {
      "cell_type": "code",
      "metadata": {
        "id": "rmveDCYyQgkS"
      },
      "source": [
        "# ESTRUTURA DE REPETICAO FOR\n",
        "# for elemento in lista:\n",
        "#   comando1\n",
        "#   comando2\n",
        "# EXEMPLOS:\n",
        "quantidadeNumeros = 10\n",
        "for numero in range(0, quantidadeNumeros):\n",
        "  print(numero, end=\" \")\n",
        "print()\n",
        "\n",
        "acoes = ['ITUB4', 'BBDC4', 'PETR4'] # lista com dados\n",
        "for acao in acoes:\n",
        "  print(acao, end=\" \")\n",
        "print()\n",
        "\n",
        "acaoPreco = {'ITBU4': 10.00, 'BBDC4': 5.00, 'PETR4': 23.00} # dicionario de dados\n",
        "for acao in acaoPreco:\n",
        "  print(f'{acao}: {acaoPreco[acao]}')\n",
        "print()"
      ],
      "execution_count": null,
      "outputs": []
    },
    {
      "cell_type": "code",
      "metadata": {
        "id": "zi4wXiEKSFhQ"
      },
      "source": [
        "# ESTUDA MAIS\n",
        "# LISTA EXERCICIOS: https://www.pythonprogressivo.net/2018/06/Lista-Exercicios-Lacos-Looping-Python.html"
      ],
      "execution_count": null,
      "outputs": []
    }
  ]
}