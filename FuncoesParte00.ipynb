{
  "nbformat": 4,
  "nbformat_minor": 0,
  "metadata": {
    "colab": {
      "name": "FuncoesParte00.ipynb",
      "provenance": [],
      "collapsed_sections": [],
      "authorship_tag": "ABX9TyPTcfqNDHtbHzwJQZlWCLgR",
      "include_colab_link": true
    },
    "kernelspec": {
      "name": "python3",
      "display_name": "Python 3"
    },
    "language_info": {
      "name": "python"
    }
  },
  "cells": [
    {
      "cell_type": "markdown",
      "metadata": {
        "id": "view-in-github",
        "colab_type": "text"
      },
      "source": [
        "<a href=\"https://colab.research.google.com/github/WandersonGomes/curso_python/blob/main/FuncoesParte00.ipynb\" target=\"_parent\"><img src=\"https://colab.research.google.com/assets/colab-badge.svg\" alt=\"Open In Colab\"/></a>"
      ]
    },
    {
      "cell_type": "code",
      "metadata": {
        "id": "cKuX2Zp9weFc"
      },
      "source": [
        "# INTRODUCAO A FUNCOES - PARTE 00\n",
        "# DESCRICAO DE FUNCOES\n",
        "# TIPOS DE FUNCOES BASICAS\n",
        "# - USO DE DOCSTRINGS\n",
        "# -- FUNCAO SEM PARAMETRO E SEM RETORNO (PROCEDIMENTO)\n",
        "# -- FUNCAO SEM PARAMETRO E COM RETORNO\n",
        "#\n",
        "# -- FUNCAO COM PARAMETRO E SEM RETORNO (PROCEDIMENTO)\n",
        "# -- FUNCAO COM PARAMETRO E COM RETORNO\n",
        "#\n",
        "# -- FUNCAO COM PARAMETROS COM VALORES PADROES"
      ],
      "execution_count": null,
      "outputs": []
    },
    {
      "cell_type": "code",
      "metadata": {
        "id": "NGoJM5RkxduP"
      },
      "source": [
        "# UMA FUNCAO E UM PROGRAMA EXTREMAMENTE ESPECIALIZADO, ISTO E, ELA DEVE SER UM\n",
        "# PROGRAMA ESPECIFICO."
      ],
      "execution_count": null,
      "outputs": []
    },
    {
      "cell_type": "code",
      "metadata": {
        "id": "U_x-Ho44xrYn"
      },
      "source": [
        "# FUNCAO SEM PARAMETRO E SEM RETORNO\n",
        "# def funcao():\n",
        "#   comando1\n",
        "#   comando2\n",
        "# EXEMPLOS:\n",
        "def printMenu():\n",
        "  print(\"=== MENU ===\")\n",
        "  print(\"1 - Cadastrar aluno.\")\n",
        "  print(\"2 - Excluir aluno.\")\n",
        "  print(\"3 - Media do aluno.\")\n",
        "  print(\"4 - Atualizar dados.\")\n",
        "  print(\"0 - Sair.\")\n",
        "\n",
        "from selenium.webdriver import Firefox\n",
        "def abrirNavegador():\n",
        "  navegador = Firefox()  "
      ],
      "execution_count": null,
      "outputs": []
    },
    {
      "cell_type": "code",
      "metadata": {
        "colab": {
          "base_uri": "https://localhost:8080/"
        },
        "id": "6GLiIKZR0OT6",
        "outputId": "ba64ea8c-40fb-4ede-bb53-9b2a210c67e3"
      },
      "source": [
        "# FUNCAO SEM PARAMETRO E COM RETORNO\n",
        "# def funcao():\n",
        "#   comando1\n",
        "#   comando2\n",
        "#   return resultado\n",
        "# EXEMPLOS:\n",
        "import os\n",
        "\n",
        "def diretorioAtual():\n",
        "  return os.getcwd()\n",
        "\n",
        "diretorio_atual = diretorioAtual()\n",
        "\n",
        "from selenium.webdriver import Firefox\n",
        "def abrirNavegador():\n",
        "  navegador = Firefox()  \n",
        "  return navegador\n",
        "\n",
        "navegadorAtual = abrirNavegador()\n",
        "\n",
        "print(diretorio_atual)"
      ],
      "execution_count": 2,
      "outputs": [
        {
          "output_type": "stream",
          "text": [
            "/content\n"
          ],
          "name": "stdout"
        }
      ]
    },
    {
      "cell_type": "code",
      "metadata": {
        "colab": {
          "base_uri": "https://localhost:8080/"
        },
        "id": "glBDfGGr68Ec",
        "outputId": "2b130b17-4dbb-4a91-eb80-4c75c953c464"
      },
      "source": [
        "# FUNCAO COM PARAMETRO E SEM RETORNO\n",
        "# def funcao(parametro1, ..., parametrosN):\n",
        "#   comando1\n",
        "#   comando2\n",
        "# EXEMPLOS:\n",
        "nome_aluno = \"Wanderson\"\n",
        "nota1 = 10\n",
        "nota2 = 9\n",
        "nota3 = 8\n",
        "\n",
        "def printAluno(nome, nota1, nota2, nota3):\n",
        "  media = (nota1 + nota2 + nota3)/3\n",
        "  print(f'{nome} tirou as seguintes notas: {nota1}, {nota2} e {nota3}. Obtendo media igual a: {media}')\n",
        "\n",
        "#printAluno(\"Lucas\", 10.00, 10.00, 10.00)\n",
        "#printAluno(nome_aluno, nota1, nota2, nota3)\n",
        "\n",
        "def printSomaQuadrados(lista_numeros):\n",
        "    soma = 0\n",
        "    for numero in lista_numeros:\n",
        "      soma += (numero * numero)\n",
        "      print(numero * numero, end=\" \")\n",
        "    print()\n",
        "    print(f'A soma dos quadros e: {soma}')\n",
        "\n",
        "#printSomaQuadrados([1, 2, 3, 4, 5])\n",
        "\n",
        "lista = [1, 2, 3, 4, 5, 6, 7, 8]\n",
        "#printSomaQuadrados(lista)\n",
        "\n",
        "def printNomes(*nomes):\n",
        "  for nome in nomes:\n",
        "    print(nome)\n",
        "\n",
        "#printNomes(\"Lucas\")\n",
        "#printNomes(\"Lucas\", \"Wanderson\")\n",
        "#printNomes(\"Lucas\", \"Wanderson\", \"Isaac\")\n",
        "\n",
        "#print(\"Texto1\", \"Texto2\", \"Texto3\")\n",
        "'''\n",
        "aluno1 = {'nome': \"Wanderson\", 'nota1': 10, 'nota2': 10, 'nota3': 9, 'observacoes': 'Bom aluno'}\n",
        "aluno2 = {'nome': 'Lucas', 'nota1': 10, 'nota2': 10, 'nota3': 10}\n",
        "\n",
        "\n",
        "def printAluno(aluno):\n",
        "  media = (aluno[\"nota1\"] + aluno[\"nota2\"] + aluno[\"nota3\"])/3\n",
        "  print(f'{aluno[\"nome\"]} tirou as seguintes notas: {aluno[\"nota1\"]}, {aluno[\"nota2\"]} e {aluno[\"nota2\"]}. Obtendo media igual a: {media}')\n",
        "  \n",
        "  if aluno[\"observacoes\"]:\n",
        "    print(f'Observacoes: {aluno[\"observacoes\"]}')\n",
        "\n",
        "printAluno(aluno1)\n",
        "printAluno(aluno2)\n",
        "'''\n",
        "\n",
        "def printNomeCompleto(**nome_completo):\n",
        "  print(f'{nome_completo[\"primeiro_nome\"]} {nome_completo[\"sobrenome\"]}')\n",
        "\n",
        "#printNomeCompleto(primeiro_nome=\"Wanderson\", sobrenome=\"Gomes\")\n",
        "\n",
        "def printMedia(nota1, nota2, peso1=1, peso2=1):\n",
        "  media = (nota1 + nota2)/(peso1 + peso2)\n",
        "  print(f'Media: {media}')\n",
        "\n",
        "nota1 = 10\n",
        "nota2 = 10\n",
        "printMedia(nota1, nota2) # media aritmetica\n",
        "\n",
        "printMedia(7, 7, 1, 2) # media ponderada\n",
        "\n",
        "def printNotas(nota1, nota2, nota3):\n",
        "  print(f'Notas: {nota1}, {nota2} e {nota3}.')\n",
        "\n",
        "printNotas(10, 9, 8)\n",
        "printNotas(nota1 = 10, nota2 = 9, nota3 = 8)\n",
        "printNotas(nota2 = 9, nota1 = 10, nota3 = 8)\n",
        "printNotas(nota3 = 8, nota2 = 9, nota1 = 10)"
      ],
      "execution_count": 26,
      "outputs": [
        {
          "output_type": "stream",
          "text": [
            "Media: 10.0\n",
            "Media: 4.666666666666667\n",
            "Notas: 10, 9 e 8.\n",
            "Notas: 10, 9 e 8.\n",
            "Notas: 10, 9 e 8.\n",
            "Notas: 10, 9 e 8.\n"
          ],
          "name": "stdout"
        }
      ]
    },
    {
      "cell_type": "code",
      "metadata": {
        "colab": {
          "base_uri": "https://localhost:8080/"
        },
        "id": "WTRk4v78ETkI",
        "outputId": "b256fad3-6d56-43af-f129-4328277b84ce"
      },
      "source": [
        "# USO DE DOCSTRINGS\n",
        "def media(nota1, nota2):\n",
        "  \"\"\"\n",
        "  media(nota1, nota2)\n",
        "\n",
        "  Descricao: retorna a media aritmetica entre duas notas.\n",
        "\n",
        "  Argumentos:\n",
        "  --nota1: float (primeira nota)\n",
        "  --nota2: float (segunda nota)\n",
        "  \n",
        "  Retorno:\n",
        "  media aritmetica (float)  \n",
        "  \"\"\"\n",
        "  return (nota1 + nota2)/2  # calculo da media\n",
        "\n",
        "help(media)"
      ],
      "execution_count": 29,
      "outputs": [
        {
          "output_type": "stream",
          "text": [
            "Help on function media in module __main__:\n",
            "\n",
            "media(nota1, nota2)\n",
            "    media(nota1, nota2)\n",
            "    \n",
            "    Descricao: retorna a media aritmetica entre duas notas.\n",
            "    \n",
            "    Argumentos:\n",
            "    --nota1: float (primeira nota)\n",
            "    --nota2: float (segunda nota)\n",
            "    \n",
            "    Retorno:\n",
            "    media aritmetica (float)\n",
            "\n"
          ],
          "name": "stdout"
        }
      ]
    },
    {
      "cell_type": "code",
      "metadata": {
        "colab": {
          "base_uri": "https://localhost:8080/"
        },
        "id": "tg5IPlbIGZHm",
        "outputId": "e173ce6a-d3cd-4387-e6d6-775b95ea38fc"
      },
      "source": [
        "# -- FUNCAO COM PARAMETRO E COM RETORNO\n",
        "# def funcao(argumento1, argumento2):\n",
        "#   comando1\n",
        "#   comando2\n",
        "#   return resultado\n",
        "# EXEMPLOS\n",
        "import math\n",
        "def calculaRaizes(a, b=0, c=0):\n",
        "  \"\"\"\n",
        "  calculaRaizes(a, b=0, c=0)\n",
        "\n",
        "  Argumentos:\n",
        "  --a: coeficiente x^2 (float)\n",
        "  --b: coeficiente x (float)\n",
        "  --c: termo independente (float)\n",
        "\n",
        "  Retorno:\n",
        "  Retorna uma lista com as raizes encontradas: [float, float]\n",
        "\n",
        "  Erros:\n",
        "  Delta < 0: Nao possui raizes reais\n",
        "  a == 0: O coeficiente a nao pode ser igual a 0.\n",
        "  \"\"\"\n",
        "  delta = (b**2) - (4 * a * c)\n",
        "  \n",
        "  if delta < 0:\n",
        "    print(\"Error: Nao possui raizes reais!\")\n",
        "    return [None, None]\n",
        "\n",
        "  if a == 0:\n",
        "    print(\"Error: O coeficiente 'a' nao pode ser igual a 0.\")\n",
        "    return [None, None]\n",
        "\n",
        "  x1 = ((-b) + math.sqrt(delta))/(2 * a)\n",
        "  x2 = ((-b) - math.sqrt(delta))/(2 * a)\n",
        "\n",
        "  return [x1, x2]\n",
        "\n",
        "help(calculaRaizes)\n",
        "\n",
        "raizes = calculaRaizes(1, 0, 3)\n",
        "print(raizes)\n",
        "raizes = calculaRaizes(0, 2, 3)\n",
        "print(raizes)\n",
        "raizes = calculaRaizes(1, 2, 1)\n",
        "print(raizes)\n",
        "raizes = calculaRaizes(1, 0, -4)\n",
        "print(raizes)\n"
      ],
      "execution_count": 31,
      "outputs": [
        {
          "output_type": "stream",
          "text": [
            "Help on function calculaRaizes in module __main__:\n",
            "\n",
            "calculaRaizes(a, b=0, c=0)\n",
            "    calculaRaizes(a, b=0, c=0)\n",
            "    \n",
            "    Argumentos:\n",
            "    --a: coeficiente x^2 (float)\n",
            "    --b: coeficiente x (float)\n",
            "    --c: termo independente (float)\n",
            "    \n",
            "    Retorno:\n",
            "    Retorna uma lista com as raizes encontradas\n",
            "    \n",
            "    Erros:\n",
            "    Delta < 0: Nao possui raizes reais\n",
            "    a == 0: O coeficiente a nao pode ser igual a 0.\n",
            "\n",
            "Error: Nao possui raizes reais!\n",
            "[None, None]\n",
            "Error: O coeficiente 'a' nao pode ser igual a 0.\n",
            "[None, None]\n",
            "[-1.0, -1.0]\n",
            "[2.0, -2.0]\n"
          ],
          "name": "stdout"
        }
      ]
    },
    {
      "cell_type": "code",
      "metadata": {
        "id": "elKdkvSx2a59"
      },
      "source": [
        "# ESTUDE MAIS\n",
        "# W3SCHOOLS: https://www.w3schools.com/python/python_functions.asp"
      ],
      "execution_count": null,
      "outputs": []
    }
  ]
}