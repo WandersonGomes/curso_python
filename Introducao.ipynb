{
  "nbformat": 4,
  "nbformat_minor": 0,
  "metadata": {
    "colab": {
      "name": "Introducao.ipynb",
      "provenance": [],
      "collapsed_sections": [],
      "authorship_tag": "ABX9TyOvxczjowrMcKxtWYH+b3Gf",
      "include_colab_link": true
    },
    "kernelspec": {
      "name": "python3",
      "display_name": "Python 3"
    },
    "language_info": {
      "name": "python"
    }
  },
  "cells": [
    {
      "cell_type": "markdown",
      "metadata": {
        "id": "view-in-github",
        "colab_type": "text"
      },
      "source": [
        "<a href=\"https://colab.research.google.com/github/WandersonGomes/curso_python/blob/main/Introducao.ipynb\" target=\"_parent\"><img src=\"https://colab.research.google.com/assets/colab-badge.svg\" alt=\"Open In Colab\"/></a>"
      ]
    },
    {
      "cell_type": "code",
      "metadata": {
        "id": "Rs7bbClphoxI"
      },
      "source": [
        "# AULA 00\n",
        "# INTRODUCAO AO PYTHON\n",
        "# === ROTEIRO ===\n",
        "# FILOSOFIA PYTHON (ZEN OF PYTHON)\n",
        "# COMENTARIOS\n",
        "# - UMA LINHA\n",
        "# - VARIAS LINHAS\n",
        "# DOCSTRINGS\n",
        "# PEP - (Proposta de Aprimoramento Python) (site: www.python.org)\n",
        "# TIPOS DE DADOS\n",
        "# - NUMERICOS\n",
        "# - STRING\n",
        "# OPERADORES\n",
        "# - ARITMETICOS\n",
        "# - COMPARACAO\n",
        "# - LOGICOS\n",
        "# - ATRIBUICAO (=)\n",
        "# TYPE\n",
        "# ENTRADA E SAIDA DE DADOS\n",
        "# - FUNCAO PRINT()\n",
        "# - FUNCAO INPUT()\n",
        "# ESTUDAR MAIS"
      ],
      "execution_count": null,
      "outputs": []
    },
    {
      "cell_type": "code",
      "metadata": {
        "id": "PIA1EaxBmcYR"
      },
      "source": [
        "# INTRODUCAO AO PYTHON\n",
        "# BREVE HISTORIA DO PYTHON\n",
        "# LINK: https://pt.wikipedia.org/wiki/Python"
      ],
      "execution_count": null,
      "outputs": []
    },
    {
      "cell_type": "code",
      "metadata": {
        "id": "DEK8S7ZliPC4"
      },
      "source": [
        "# ZEN OF PYTHON - FILOSOFIA\n",
        "'''\n",
        "Bonito é melhor que feio\n",
        "Explícito é melhor que implícito\n",
        "Simples é melhor que complexo\n",
        "Complexo é melhor que complicado\n",
        "Linear é melhor do que aninhado\n",
        "Esparso é melhor que denso\n",
        "Legibilidade conta\n",
        "Casos especiais não são especiais o bastante para quebrar as regras.\n",
        "Ainda que praticidade vença a pureza\n",
        "Erros nunca devem passar silenciosamente. \n",
        "A menos que sejam explicitamente silenciados\n",
        "Diante da ambiguidade, recuse a tentação de adivinhar\n",
        "Deveria haver um — e preferencialmente apenas um — modo óbvio para fazer algo.\n",
        "Embora esse modo possa não ser óbvio a princípio a menos que você seja holandês\n",
        "Agora é melhor que nunca\n",
        "Embora nunca freqüentemente seja melhor que já\n",
        "Se a implementação é difícil de explicar, é uma má ideia\n",
        "Se a implementação é fácil de explicar, pode ser uma boa ideia\n",
        "Namespaces são uma grande ideia — vamos ter mais dessas!\n",
        "'''"
      ],
      "execution_count": null,
      "outputs": []
    },
    {
      "cell_type": "code",
      "metadata": {
        "id": "_70Kh2r4lPre"
      },
      "source": [
        "# PEPS\n",
        "# LINK: https://www.python.org/dev/peps/"
      ],
      "execution_count": null,
      "outputs": []
    },
    {
      "cell_type": "code",
      "metadata": {
        "id": "Ph5LwMLDkxa3"
      },
      "source": [
        "# COMENTARIOS\n",
        "# COMENTARIO DE UMA LINHA\n",
        "'''\n",
        "COMENTARIO NA LINHA 1\n",
        "COMENTARIO NA LINHA 2\n",
        "'''"
      ],
      "execution_count": null,
      "outputs": []
    },
    {
      "cell_type": "code",
      "metadata": {
        "id": "rnrmTXvAmraX"
      },
      "source": [
        "# DOCSTRINGS (PEP 256, PEP 257, PEP 258)\n",
        "import numpy\n",
        "help(numpy)\n",
        "\n",
        "def minhaFuncao():\n",
        "  \"\"\"Docstring da minha funcao\"\"\""
      ],
      "execution_count": null,
      "outputs": []
    },
    {
      "cell_type": "code",
      "metadata": {
        "id": "C4hfD_70lBFV"
      },
      "source": [
        "# TIPOS DE DADOS\n",
        "# NUMERICOS\n",
        "\n",
        "# - INTEIRO\n",
        "numero = 10\n",
        "qtdItens = 100\n",
        "\n",
        "# - PONTO FLUTUANTE (FLOAT | DOUBLE)\n",
        "nota = 9.5\n",
        "peso = 60.5\n",
        "# -- ATENCAO\n",
        "numero1 = 0.2\n",
        "numero2 = 0.1\n",
        "numero1 + numero2 == 0.3\n",
        "\n",
        "# - COMPLEXO\n",
        "numeroComplexo = 4 + 3j # 4 + 3i (matematica)\n",
        "numeroComplexo = j # error\n",
        "numeroComplexo = 1j # ok\n",
        "\n",
        "# STRING (TEXTO | CARACTERE)\n",
        "texto = \"meu texto\"\n",
        "caractere = \"a\"\n",
        "texto = 'meu texto'\n",
        "caractere = 'a'\n",
        "primeiraParte = \"Hello, \"\n",
        "segundaParte = \"World!\"\n",
        "frase = primeiraParte + segundaParte\n",
        "\n",
        "# BOOLEANO\n",
        "verdadeiro = True\n",
        "falso = False"
      ],
      "execution_count": null,
      "outputs": []
    },
    {
      "cell_type": "code",
      "metadata": {
        "id": "mYubUnlclEtM"
      },
      "source": [
        "# OPERADORES\n",
        "# - ARITMETICOS (INTEIRO, COMPLEXO, FLOAT)\n",
        "# -- SOMA\n",
        "numero1 = 1\n",
        "numero2 = 2\n",
        "soma = numero1 + numero2\n",
        "subtracao = numero1 - numero2\n",
        "multiplicacao = numero1 * numero2\n",
        "divisao = numero1 / numero2\n",
        "#--- ATENCAO DIVISAO INTEIRA\n",
        "divisaoInteira = int(numero1/numero2) # quociente inteiro\n",
        "resto = numero1 % numero2 # resto 1\n",
        "potencia = 2 ** 3 # 8\n",
        "\n",
        "# +=, -=, *=, /=, %=, **=\n",
        "numero = 1\n",
        "numero += 1 # numero = numero + 1\n",
        "\n",
        "# - COMPARACAO\n",
        "# - menor (<)\n",
        "2 < 3 # True\n",
        "3 < 2 # False\n",
        "\n",
        "# - maior (>)\n",
        "2 > 3 # False\n",
        "3 > 2 # True\n",
        "\n",
        "# - igualdade (==)\n",
        "4 == 4 # True\n",
        "3 == 4 # False\n",
        "\n",
        "# - menor igual (<=)\n",
        "3 <= 4 # True\n",
        "4 <= 4 # True\n",
        "5 <= 4 # False\n",
        "\n",
        "# - maior igual (>=)\n",
        "3 >= 4 # False\n",
        "4 >= 4 # True\n",
        "5 >= 4 # True\n",
        "\n",
        "# - diferente\n",
        "3 != 4 # True\n",
        "4 != 4 # False\n",
        "\n",
        "# <> (atualizar depois)\n",
        "\n",
        "# - is (compara objetos)\n",
        "numeroInteiro = 10 # tipo inteiro (int)\n",
        "type(numeroInteiro) is int # True\n",
        "type(numeroInteiro) is float # False\n",
        "\n",
        "# - in (dentro)\n",
        "listaAcoes = ['ACAO1', 'ACAO2', 'ACAO3']\n",
        "'ACAO1' in listaAcoes # True\n",
        "'ACAO4' in listaAcoes # False\n",
        "\n",
        "# OPERADORES LOGICOS\n",
        "# - and (E - logico)\n",
        "True and True # True\n",
        "True and False # False\n",
        "False and False # False\n",
        "False and True # False\n",
        "\n",
        "# - or (OU - logico)\n",
        "True or True # True\n",
        "True or False # True\n",
        "False or False # False\n",
        "False or True # True\n",
        "\n",
        "# - not (NAO - logico)\n",
        "not True # False\n",
        "not False # True\n",
        "\n",
        "# OPERADOR DE ATRIBUICAO\n",
        "# =\n",
        "numero = 10"
      ],
      "execution_count": null,
      "outputs": []
    },
    {
      "cell_type": "code",
      "metadata": {
        "id": "98a2aL3w6rco"
      },
      "source": [
        "# TYPE (retorna o tipo de um dado)\n",
        "inteiro = 10\n",
        "type(inteiro) # <class 'int'>\n",
        "string = \"texto\"\n",
        "type(string) # <class 'string'>\n",
        "decimal = 9.5\n",
        "type(decimal) # <class 'float'>"
      ],
      "execution_count": null,
      "outputs": []
    },
    {
      "cell_type": "code",
      "metadata": {
        "id": "kW6GEfUcmlF6"
      },
      "source": [
        "# ENTRADA E SAIDA DE DADOS\n",
        "# print\n",
        "# imprime um simples texto\n",
        "print(\"Texto\")\n",
        "# imprime o valor de um variavel\n",
        "numero = 10\n",
        "print(numero) # 10\n",
        "# imprime uma lista\n",
        "lista = [1, 2, 3]\n",
        "print(lista) # [1, 2, 3]\n",
        "# imprime formatado\n",
        "nota1 = 10.0\n",
        "nota2 = 9.0\n",
        "nota3 = 8.0\n",
        "print(f'Primeira Nota: {nota1}, Segunda Nota: {nota2}, Terceira Nota: {nota3}') # 'Primeira Nota: 10.0, Segunda Nota: 9.0, Terceira Nota: 8.0\n",
        "\n",
        "# input (sempre ler no formato string)\n",
        "string = input(\"Informe um texto: \")\n",
        "inteiro = int(input(\"Informe um inteiro: \"))\n",
        "decimal = float(input(\"Informe um numero decimal: \"))\n",
        "palavra1, palavra2 = input(\"Informe duas palavras (palavra1, palavra2): \").split(\",\")\n",
        "numero1, numero2 = map(int, input(\"Informe dois numeros: \").split(\" \"))"
      ],
      "execution_count": null,
      "outputs": []
    },
    {
      "cell_type": "code",
      "metadata": {
        "id": "3Ck7ZsVXmotn"
      },
      "source": [
        "# ESTUDAR MAIS\n",
        "# IME: https://panda.ime.usp.br/cc110/static/cc110/01-intro.html\n",
        "# GitHub: https://github.com/WandersonGomes/curso_python\n",
        "# Youtube: https://youtube.com/playlist?list=PL0uoQnTfcT95Ikry3D1P8uaQkkg1JzHqV"
      ],
      "execution_count": null,
      "outputs": []
    }
  ]
}