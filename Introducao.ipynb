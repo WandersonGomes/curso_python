{
  "nbformat": 4,
  "nbformat_minor": 0,
  "metadata": {
    "colab": {
      "name": "Introducao.ipynb",
      "provenance": [],
      "collapsed_sections": [],
      "authorship_tag": "ABX9TyMX+ZD+2XYdx2v0pGOlnwnq",
      "include_colab_link": true
    },
    "kernelspec": {
      "name": "python3",
      "display_name": "Python 3"
    },
    "language_info": {
      "name": "python"
    }
  },
  "cells": [
    {
      "cell_type": "markdown",
      "metadata": {
        "id": "view-in-github",
        "colab_type": "text"
      },
      "source": [
        "<a href=\"https://colab.research.google.com/github/WandersonGomes/curso_python/blob/main/Introducao.ipynb\" target=\"_parent\"><img src=\"https://colab.research.google.com/assets/colab-badge.svg\" alt=\"Open In Colab\"/></a>"
      ]
    },
    {
      "cell_type": "code",
      "metadata": {
        "id": "Rs7bbClphoxI"
      },
      "source": [
        "# AULA 00\n",
        "# INTRODUCAO AO PYTHON\n",
        "# === ROTEIRO ===\n",
        "# FILOSOFIA PYTHON (ZEN OF PYTHON)\n",
        "# COMENTARIOS\n",
        "# - UMA LINHA\n",
        "# - VARIAS LINHAS\n",
        "# PEP - (Proposta de Aprimoramento Python) (site: www.python.org)\n",
        "# TIPOS DE DADOS\n",
        "# - NUMERICOS\n",
        "# - STRING\n",
        "# OPERADORES\n",
        "# - ARITMETICOS\n",
        "# - COMPARACAO\n",
        "# - LOGICOS\n",
        "# - ATRIBUICAO (=)"
      ],
      "execution_count": null,
      "outputs": []
    },
    {
      "cell_type": "code",
      "metadata": {
        "id": "DEK8S7ZliPC4"
      },
      "source": [
        "# ZEN OF PYTHON - FILOSOFIA\n",
        "'''\n",
        "Bonito é melhor que feio\n",
        "Explícito é melhor que implícito\n",
        "Simples é melhor que complexo\n",
        "Complexo é melhor que complicado\n",
        "Linear é melhor do que aninhado\n",
        "Esparso é melhor que denso\n",
        "Legibilidade conta\n",
        "Casos especiais não são especiais o bastante para quebrar as regras.\n",
        "Ainda que praticidade vença a pureza\n",
        "Erros nunca devem passar silenciosamente. \n",
        "A menos que sejam explicitamente silenciados\n",
        "Diante da ambiguidade, recuse a tentação de adivinhar\n",
        "Deveria haver um — e preferencialmente apenas um — modo óbvio para fazer algo.\n",
        "Embora esse modo possa não ser óbvio a princípio a menos que você seja holandês\n",
        "Agora é melhor que nunca\n",
        "Embora nunca freqüentemente seja melhor que já\n",
        "Se a implementação é difícil de explicar, é uma má ideia\n",
        "Se a implementação é fácil de explicar, pode ser uma boa ideia\n",
        "Namespaces são uma grande ideia — vamos ter mais dessas!\n",
        "'''"
      ],
      "execution_count": null,
      "outputs": []
    },
    {
      "cell_type": "code",
      "metadata": {
        "id": "_70Kh2r4lPre"
      },
      "source": [
        "# PEPS\n",
        "# LINK: https://www.python.org/dev/peps/"
      ],
      "execution_count": null,
      "outputs": []
    },
    {
      "cell_type": "code",
      "metadata": {
        "id": "Ph5LwMLDkxa3"
      },
      "source": [
        "# COMENTARIOS"
      ],
      "execution_count": null,
      "outputs": []
    },
    {
      "cell_type": "code",
      "metadata": {
        "id": "C4hfD_70lBFV"
      },
      "source": [
        "# TIPOS DE DADOS"
      ],
      "execution_count": null,
      "outputs": []
    },
    {
      "cell_type": "code",
      "metadata": {
        "id": "mYubUnlclEtM"
      },
      "source": [
        "# OPERADORES"
      ],
      "execution_count": null,
      "outputs": []
    }
  ]
}